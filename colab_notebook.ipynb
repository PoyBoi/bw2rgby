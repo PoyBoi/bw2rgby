{
  "cells": [
    {
      "cell_type": "markdown",
      "metadata": {},
      "source": [
        "# Prerequisite Installation"
      ]
    },
    {
      "cell_type": "code",
      "execution_count": null,
      "metadata": {
        "colab": {
          "base_uri": "https://localhost:8080/"
        },
        "id": "CZoqdJxiGlio",
        "outputId": "3d9b5817-26c8-448c-f13a-b8863e5d2f63"
      },
      "outputs": [],
      "source": [
        "!git clone https://github.com/richzhang/colorization.git"
      ]
    },
    {
      "cell_type": "code",
      "execution_count": null,
      "metadata": {
        "colab": {
          "base_uri": "https://localhost:8080/"
        },
        "id": "z8uPr_7z62yB",
        "outputId": "ba4b647f-8862-436f-a866-2e170bb113ea"
      },
      "outputs": [],
      "source": [
        "#!pip uninstall typing-extensions  # Uninstall the conflicting version\n",
        "#!pip install typing-extensions==3.10.0.0  # Install the version required by Gradio\n",
        "!pip install --upgrade gradio  # Install or upgrade Gradio"
      ]
    },
    {
      "cell_type": "code",
      "execution_count": null,
      "metadata": {
        "id": "jsmm_dk04o9Y"
      },
      "outputs": [],
      "source": [
        "# !pip install -U gradio"
      ]
    },
    {
      "cell_type": "code",
      "execution_count": null,
      "metadata": {
        "colab": {
          "base_uri": "https://localhost:8080/"
        },
        "id": "PZhAQs0QXFsB",
        "outputId": "5c4ce398-af3a-46fc-f327-fdc286f7e47e"
      },
      "outputs": [
        {
          "name": "stdout",
          "output_type": "stream",
          "text": [
            "/content/colorization\n"
          ]
        }
      ],
      "source": [
        "cd colorization"
      ]
    },
    {
      "cell_type": "code",
      "execution_count": null,
      "metadata": {
        "id": "BrkLHa_WNeOM"
      },
      "outputs": [],
      "source": [
        "#!pip install -r requirements.txt"
      ]
    },
    {
      "cell_type": "code",
      "execution_count": null,
      "metadata": {
        "id": "A2qeC59ngem4"
      },
      "outputs": [],
      "source": [
        "#pip install scikit-image"
      ]
    },
    {
      "cell_type": "code",
      "execution_count": null,
      "metadata": {
        "colab": {
          "base_uri": "https://localhost:8080/",
          "height": 663
        },
        "id": "d-nmsx_7gl7s",
        "outputId": "0fe06cde-6dcd-484f-80f7-d6bb6e7ab136"
      },
      "outputs": [],
      "source": [
        "pip install torch scikit-image numpy matplotlib argparse Pillow"
      ]
    },
    {
      "cell_type": "markdown",
      "metadata": {},
      "source": [
        "# Init Code"
      ]
    },
    {
      "cell_type": "code",
      "execution_count": null,
      "metadata": {
        "id": "mu7I3I7vrKCf"
      },
      "outputs": [],
      "source": [
        "import os\n",
        "from os.path import isfile, join"
      ]
    },
    {
      "cell_type": "code",
      "execution_count": null,
      "metadata": {
        "colab": {
          "base_uri": "https://localhost:8080/"
        },
        "id": "xhbIWZzqNfnb",
        "outputId": "67873f6c-92d1-4af4-bb39-ed883366be58"
      },
      "outputs": [
        {
          "name": "stderr",
          "output_type": "stream",
          "text": [
            "Downloading: \"https://colorizers.s3.us-east-2.amazonaws.com/colorization_release_v2-9b330a0b.pth\" to /root/.cache/torch/hub/checkpoints/colorization_release_v2-9b330a0b.pth\n",
            "100%|██████████| 123M/123M [00:03<00:00, 39.4MB/s]\n",
            "Downloading: \"https://colorizers.s3.us-east-2.amazonaws.com/siggraph17-df00044c.pth\" to /root/.cache/torch/hub/checkpoints/siggraph17-df00044c.pth\n",
            "100%|██████████| 130M/130M [00:02<00:00, 45.9MB/s]\n"
          ]
        }
      ],
      "source": [
        "import colorizers\n",
        "colorizer_eccv16 = colorizers.eccv16().eval()\n",
        "colorizer_siggraph17 = colorizers.siggraph17().eval()"
      ]
    },
    {
      "cell_type": "markdown",
      "metadata": {
        "id": "c57hHii-YeIN"
      },
      "source": [
        "# Video processing\n"
      ]
    },
    {
      "cell_type": "code",
      "execution_count": null,
      "metadata": {
        "id": "8nOM15VDi2yy"
      },
      "outputs": [],
      "source": [
        "# Importing the necessary packages\n",
        "from imutils.video import VideoStream\n",
        "import numpy as np\n",
        "import imutils\n",
        "import time\n",
        "import cv2\n",
        "import os\n",
        "from os.path import isfile, join\n",
        "import subprocess"
      ]
    },
    {
      "cell_type": "code",
      "execution_count": null,
      "metadata": {
        "id": "DmwX7aEuUN0W"
      },
      "outputs": [],
      "source": [
        "def convert_video(vpath):\n",
        "  vs = cv2.VideoCapture(vpath)\n",
        "  count = 0\n",
        "  success = True\n",
        "\n",
        "  while success:\n",
        "      success, frame = vs.read()\n",
        "\n",
        "      if frame is None:\n",
        "          break\n",
        "\n",
        "      cv2.imwrite(\"/content/frames/frame%d.jpg\" % count, frame)\n",
        "\n",
        "      # Call the colorization script for each frame\n",
        "      subprocess.run([\n",
        "          'python', '/content/demo_release.py',\n",
        "          '-i', f'/content/frames/frame{count}.jpg',\n",
        "          '-o', f'/content/output_frames/output{count}.png'\n",
        "      ])\n",
        "\n",
        "      #colorized_frame = cv2.imread(f'content/output_frames/output{count}.png')\n",
        "\n",
        "\n",
        "      count += 1\n",
        "\n",
        "      key = cv2.waitKey(1) & 0xFF\n",
        "      if key == ord(\"q\"):\n",
        "          break\n",
        "\n",
        "  vs.release()\n",
        "  cv2.destroyAllWindows()\n"
      ]
    },
    {
      "cell_type": "code",
      "execution_count": 44,
      "metadata": {
        "id": "5m3wwTCnruYt"
      },
      "outputs": [],
      "source": [
        "def convert_frames_to_video(pathIn, pathOut, fps):\n",
        "    frame_array = []\n",
        "    files = [f for f in os.listdir(pathIn) if isfile(join(pathIn, f))]\n",
        "\n",
        "    # for sorting the file names properly\n",
        "    files.sort(key=lambda x: int(x[5:-4]) if x[5:-4].isdigit() else 0)\n",
        "\n",
        "    for i in range(len(files)):\n",
        "        filename = os.path.join(pathIn, files[i])\n",
        "        print(f\"Reading {filename}\")\n",
        "        img = cv2.imread(filename)\n",
        "\n",
        "        if img is not None:\n",
        "            height, width, layers = img.shape\n",
        "            size = (width, height)\n",
        "            frame_array.append(img)\n",
        "        else:\n",
        "            print(f\"Unable to read image: {filename}\")\n",
        "\n",
        "    out = cv2.VideoWriter(pathOut, cv2.VideoWriter_fourcc(*'DIVX'), fps, size)\n",
        "    for i in range(len(frame_array)):\n",
        "        out.write(frame_array[i])\n",
        "\n",
        "    out.release()\n",
        "    return pathOut\n"
      ]
    },
    {
      "cell_type": "code",
      "execution_count": 59,
      "metadata": {
        "id": "5BYdMbQBc2zg"
      },
      "outputs": [],
      "source": [
        "import os\n",
        "from os.path import isfile, join\n",
        "import cv2\n",
        "\n",
        "def convert_frames_to_video(pathIn, pathOut, fps):\n",
        "    frame_array = []\n",
        "\n",
        "    # Get a list of files in the input folder\n",
        "    files = [f for f in os.listdir(pathIn) if isfile(join(pathIn, f))]\n",
        "    #print(files)\n",
        "    # Sort the files based on the numeric part (Y) in the middle of the filename\n",
        "    files.sort(key=lambda x: int(x.split('output')[1].split('.png_')[0]))\n",
        "    #print(files)\n",
        "    for i in range(len(files)):\n",
        "        filename = os.path.join(pathIn, files[i])\n",
        "        print(f\"Reading {filename}\")\n",
        "        img = cv2.imread(filename)\n",
        "\n",
        "        if img is not None:\n",
        "            height, width, layers = img.shape\n",
        "            size = (width, height)\n",
        "            frame_array.append(img)\n",
        "        else:\n",
        "            print(f\"Unable to read image: {filename}\")\n",
        "\n",
        "    out = cv2.VideoWriter(pathOut, cv2.VideoWriter_fourcc(*'DIVX'), fps, size)\n",
        "    for i in range(len(frame_array)):\n",
        "        out.write(frame_array[i])\n",
        "\n",
        "    out.release()\n",
        "    return pathOut\n",
        "\n",
        "# # Example usage\n",
        "# input_folder = '/content/output_frames/eccv/'\n",
        "# output_video = '/content/output_frames/eccv_video.avi'\n",
        "# convert_frames_to_video(input_folder, output_video, 24)\n"
      ]
    },
    {
      "cell_type": "code",
      "execution_count": 62,
      "metadata": {
        "id": "JwVDu7MsQd2s"
      },
      "outputs": [],
      "source": [
        "def move_files(input_folder,eccv_path,siggraph_path):\n",
        "  import re\n",
        "  import shutil\n",
        "  import os\n",
        "  eccv_folder = '/content/output_frames/eccv/'\n",
        "  siggraph_folder = '/content/output_frames/siggraph/'\n",
        "\n",
        "  # Create output folders if they don't exist\n",
        "  os.makedirs(eccv_folder, exist_ok=True)\n",
        "  os.makedirs(siggraph_folder, exist_ok=True)\n",
        "\n",
        "  # Define the pattern for eccv and siggraph files\n",
        "  eccv_pattern = r\"_eccv\\d+\\.png\"\n",
        "  siggraph_pattern = r\"_siggraph\\d+\\.png\"\n",
        "\n",
        "  # Loop through files in the input folder\n",
        "  for filename in os.listdir(input_folder):\n",
        "      file_path = os.path.join(input_folder, filename)\n",
        "\n",
        "      # Check if the file matches the eccv pattern\n",
        "      if re.search(eccv_pattern, filename):\n",
        "          shutil.move(file_path, os.path.join(eccv_folder, filename))\n",
        "          print(f\"Moved {filename} to eccv folder\")\n",
        "\n",
        "      # Check if the file matches the siggraph pattern\n",
        "      elif re.search(siggraph_pattern, filename):\n",
        "          shutil.move(file_path, os.path.join(siggraph_folder, filename))\n",
        "          print(f\"Moved {filename} to siggraph folder\")\n",
        "\n",
        "      # If the file doesn't match either pattern, you can choose to skip or handle it differently\n",
        "      else:\n",
        "          print(f\"File {filename} doesn't match either pattern\")\n",
        "\n",
        "  print(\"Categorization complete.\")\n",
        "\n",
        "\n"
      ]
    },
    {
      "cell_type": "code",
      "execution_count": 68,
      "metadata": {
        "id": "qx0l09i-bRe9"
      },
      "outputs": [],
      "source": [
        "def colorize_video(vpath):\n",
        "  #print(option)\n",
        "  # print(vpath)\n",
        "  convert_video(vpath)\n",
        "  move_files('/content/output_frames','/content/output_frames/eccv/','/content/output_frames/siggraph/')\n",
        "  pathIn_eccv= '/content/output_frames/eccv'\n",
        "  pathIn_sigg= '/content/output_frames/siggraph'\n",
        "  pathOut_eccv = '/content/video_eccv.avi'\n",
        "  pathOut_sigg = '/content/video_sigg.avi'\n",
        "  fps = 30.0\n",
        "  video_eccv = convert_frames_to_video(pathIn_eccv, pathOut_eccv, fps)\n",
        "  video_sigg = convert_frames_to_video(pathIn_sigg, pathOut_sigg, fps)\n",
        "  return video_eccv,video_sigg"
      ]
    },
    {
      "cell_type": "code",
      "execution_count": null,
      "metadata": {
        "id": "19rgpcJVMhO_"
      },
      "outputs": [],
      "source": [
        "# v1, v2 = colorize_video('/content/output (2).mp4')"
      ]
    },
    {
      "cell_type": "markdown",
      "metadata": {
        "id": "q_4N8avv2hWc"
      },
      "source": [
        "# Front end (streamlit)"
      ]
    },
    {
      "cell_type": "code",
      "execution_count": null,
      "metadata": {
        "colab": {
          "base_uri": "https://localhost:8080/",
          "height": 979
        },
        "id": "xCzRAF36-DBo",
        "outputId": "b24c55fa-ab0b-470d-d40d-50f3632a2013"
      },
      "outputs": [
        {
          "name": "stdout",
          "output_type": "stream",
          "text": [
            "Setting queue=True in a Colab notebook requires sharing enabled. Setting `share=True` (you can turn this off by setting `share=False` in `launch()` explicitly).\n",
            "\n",
            "Colab notebook detected. This cell will run indefinitely so that you can see errors and logs. To turn off, set debug=False in launch().\n",
            "Running on public URL: https://2c758fe72833e7b441.gradio.live\n",
            "\n",
            "This share link expires in 72 hours. For free permanent hosting and GPU upgrades, run `gradio deploy` from Terminal to deploy to Spaces (https://huggingface.co/spaces)\n"
          ]
        },
        {
          "data": {
            "text/html": [
              "<div><iframe src=\"https://2c758fe72833e7b441.gradio.live\" width=\"100%\" height=\"500\" allow=\"autoplay; camera; microphone; clipboard-read; clipboard-write;\" frameborder=\"0\" allowfullscreen></iframe></div>"
            ],
            "text/plain": [
              "<IPython.core.display.HTML object>"
            ]
          },
          "metadata": {},
          "output_type": "display_data"
        },
        {
          "name": "stdout",
          "output_type": "stream",
          "text": [
            "Image Colourization\n"
          ]
        },
        {
          "name": "stderr",
          "output_type": "stream",
          "text": [
            "Traceback (most recent call last):\n",
            "  File \"/usr/local/lib/python3.10/dist-packages/gradio/queueing.py\", line 495, in call_prediction\n",
            "    output = await route_utils.call_process_api(\n",
            "  File \"/usr/local/lib/python3.10/dist-packages/gradio/route_utils.py\", line 232, in call_process_api\n",
            "    output = await app.get_blocks().process_api(\n",
            "  File \"/usr/local/lib/python3.10/dist-packages/gradio/blocks.py\", line 1570, in process_api\n",
            "    data = self.postprocess_data(fn_index, result[\"prediction\"], state)\n",
            "  File \"/usr/local/lib/python3.10/dist-packages/gradio/blocks.py\", line 1397, in postprocess_data\n",
            "    self.validate_outputs(fn_index, predictions)  # type: ignore\n",
            "  File \"/usr/local/lib/python3.10/dist-packages/gradio/blocks.py\", line 1371, in validate_outputs\n",
            "    raise ValueError(\n",
            "ValueError: An event handler (generate_output) didn't receive enough output values (needed: 3, received: 1).\n",
            "Wanted outputs:\n",
            "    [image, video, video]\n",
            "Received outputs:\n",
            "    [None]\n"
          ]
        },
        {
          "name": "stdout",
          "output_type": "stream",
          "text": [
            "Image Colourization\n"
          ]
        }
      ],
      "source": [
        "import gradio as gr\n",
        "\n",
        "def generate_output(user_fun,ipath,vpath):\n",
        "    print(user_fun)\n",
        "    # Implement your image processing logic here based on user_fun\n",
        "    # return should be in format - [\"image\",\"video\",\"video\",\"video\"],\n",
        "\n",
        "\n",
        "    if user_fun == 'Image Colourization':\n",
        "      if ipath != None and vpath == None:\n",
        "        image = colorize_image(ipath)\n",
        "        return image\n",
        "      elif ipath == None and vpath != None:\n",
        "        video1,video2 = colorize_video(vpath)\n",
        "        return None,video1,video2\n",
        "    elif user_fun == 'Image Restoration':\n",
        "      pass\n",
        "    elif user_fun == 'Image Enhancement':\n",
        "      pass\n",
        "\n",
        "iface = gr.Interface(\n",
        "    generate_output,\n",
        "    [\n",
        "        gr.Radio([\"Image Restoration\", \"Image Enhancement\", \"Image Colourization\"], label=\"Choose a function\"),\n",
        "        gr.Image(label=\"Upload Image\"),\n",
        "        gr.Video(label=\"Upload Video\") # Use 'sources' to specify upload functionality\n",
        "    ],\n",
        "    outputs = [\"image\",\"video\",\"video\"],\n",
        "    live=True,\n",
        ")\n",
        "\n",
        "iface.launch(debug=True)\n"
      ]
    }
  ],
  "metadata": {
    "colab": {
      "provenance": []
    },
    "kernelspec": {
      "display_name": "Python 3",
      "name": "python3"
    },
    "language_info": {
      "name": "python",
      "version": "3.10.2"
    }
  },
  "nbformat": 4,
  "nbformat_minor": 0
}
