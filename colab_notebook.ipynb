{
  "cells": [
    {
      "cell_type": "markdown",
      "metadata": {},
      "source": [
        "# Init Code\n"
      ]
    },
    {
      "cell_type": "code",
      "execution_count": 11,
      "metadata": {
        "colab": {
          "base_uri": "https://localhost:8080/"
        },
        "id": "CZoqdJxiGlio",
        "outputId": "1dd87fac-296f-4e43-91e9-5981109c3fc9"
      },
      "outputs": [
        {
          "name": "stdout",
          "output_type": "stream",
          "text": [
            "^C\n"
          ]
        },
        {
          "name": "stderr",
          "output_type": "stream",
          "text": [
            "Cloning into 'colorization'...\n"
          ]
        }
      ],
      "source": [
        "!git clone https://github.com/richzhang/colorization.git"
      ]
    },
    {
      "cell_type": "code",
      "execution_count": null,
      "metadata": {
        "colab": {
          "base_uri": "https://localhost:8080/"
        },
        "id": "PZhAQs0QXFsB",
        "outputId": "42bab595-1c7b-433c-f93d-9277cc99a20c"
      },
      "outputs": [
        {
          "name": "stdout",
          "output_type": "stream",
          "text": [
            "/content/colorization\n"
          ]
        }
      ],
      "source": [
        "cd colorization"
      ]
    },
    {
      "cell_type": "code",
      "execution_count": null,
      "metadata": {
        "id": "BrkLHa_WNeOM"
      },
      "outputs": [],
      "source": [
        "#!pip install -r requirements.txt"
      ]
    },
    {
      "cell_type": "code",
      "execution_count": null,
      "metadata": {
        "id": "A2qeC59ngem4"
      },
      "outputs": [],
      "source": [
        "#pip install scikit-image"
      ]
    },
    {
      "cell_type": "code",
      "execution_count": null,
      "metadata": {
        "colab": {
          "base_uri": "https://localhost:8080/",
          "height": 663
        },
        "id": "d-nmsx_7gl7s",
        "outputId": "e8abbc39-2c72-45c1-ecc8-18dfb0577e6a"
      },
      "outputs": [
        {
          "name": "stdout",
          "output_type": "stream",
          "text": [
            "Requirement already satisfied: torch in /usr/local/lib/python3.10/dist-packages (2.1.0+cu121)\n",
            "Requirement already satisfied: scikit-image in /usr/local/lib/python3.10/dist-packages (0.19.3)\n",
            "Requirement already satisfied: numpy in /usr/local/lib/python3.10/dist-packages (1.23.5)\n",
            "Requirement already satisfied: matplotlib in /usr/local/lib/python3.10/dist-packages (3.7.1)\n",
            "Collecting argparse\n",
            "  Downloading argparse-1.4.0-py2.py3-none-any.whl (23 kB)\n",
            "Requirement already satisfied: Pillow in /usr/local/lib/python3.10/dist-packages (9.4.0)\n",
            "Requirement already satisfied: filelock in /usr/local/lib/python3.10/dist-packages (from torch) (3.13.1)\n",
            "Requirement already satisfied: typing-extensions in /usr/local/lib/python3.10/dist-packages (from torch) (4.5.0)\n",
            "Requirement already satisfied: sympy in /usr/local/lib/python3.10/dist-packages (from torch) (1.12)\n",
            "Requirement already satisfied: networkx in /usr/local/lib/python3.10/dist-packages (from torch) (3.2.1)\n",
            "Requirement already satisfied: jinja2 in /usr/local/lib/python3.10/dist-packages (from torch) (3.1.3)\n",
            "Requirement already satisfied: fsspec in /usr/local/lib/python3.10/dist-packages (from torch) (2023.6.0)\n",
            "Requirement already satisfied: triton==2.1.0 in /usr/local/lib/python3.10/dist-packages (from torch) (2.1.0)\n",
            "Requirement already satisfied: scipy>=1.4.1 in /usr/local/lib/python3.10/dist-packages (from scikit-image) (1.11.4)\n",
            "Requirement already satisfied: imageio>=2.4.1 in /usr/local/lib/python3.10/dist-packages (from scikit-image) (2.31.6)\n",
            "Requirement already satisfied: tifffile>=2019.7.26 in /usr/local/lib/python3.10/dist-packages (from scikit-image) (2023.12.9)\n",
            "Requirement already satisfied: PyWavelets>=1.1.1 in /usr/local/lib/python3.10/dist-packages (from scikit-image) (1.5.0)\n",
            "Requirement already satisfied: packaging>=20.0 in /usr/local/lib/python3.10/dist-packages (from scikit-image) (23.2)\n",
            "Requirement already satisfied: contourpy>=1.0.1 in /usr/local/lib/python3.10/dist-packages (from matplotlib) (1.2.0)\n",
            "Requirement already satisfied: cycler>=0.10 in /usr/local/lib/python3.10/dist-packages (from matplotlib) (0.12.1)\n",
            "Requirement already satisfied: fonttools>=4.22.0 in /usr/local/lib/python3.10/dist-packages (from matplotlib) (4.47.2)\n",
            "Requirement already satisfied: kiwisolver>=1.0.1 in /usr/local/lib/python3.10/dist-packages (from matplotlib) (1.4.5)\n",
            "Requirement already satisfied: pyparsing>=2.3.1 in /usr/local/lib/python3.10/dist-packages (from matplotlib) (3.1.1)\n",
            "Requirement already satisfied: python-dateutil>=2.7 in /usr/local/lib/python3.10/dist-packages (from matplotlib) (2.8.2)\n",
            "Requirement already satisfied: six>=1.5 in /usr/local/lib/python3.10/dist-packages (from python-dateutil>=2.7->matplotlib) (1.16.0)\n",
            "Requirement already satisfied: MarkupSafe>=2.0 in /usr/local/lib/python3.10/dist-packages (from jinja2->torch) (2.1.3)\n",
            "Requirement already satisfied: mpmath>=0.19 in /usr/local/lib/python3.10/dist-packages (from sympy->torch) (1.3.0)\n",
            "Installing collected packages: argparse\n",
            "Successfully installed argparse-1.4.0\n"
          ]
        },
        {
          "data": {
            "application/vnd.colab-display-data+json": {
              "pip_warning": {
                "packages": [
                  "argparse"
                ]
              }
            }
          },
          "metadata": {},
          "output_type": "display_data"
        }
      ],
      "source": [
        "pip install torch scikit-image numpy matplotlib argparse Pillow"
      ]
    },
    {
      "cell_type": "code",
      "execution_count": null,
      "metadata": {
        "id": "mu7I3I7vrKCf"
      },
      "outputs": [],
      "source": [
        "import os\n",
        "import os\n",
        "from os.path import isfile, join"
      ]
    },
    {
      "cell_type": "code",
      "execution_count": null,
      "metadata": {
        "colab": {
          "base_uri": "https://localhost:8080/"
        },
        "id": "xhbIWZzqNfnb",
        "outputId": "823943a2-1eb3-4a74-f856-fbe6ce8b0451"
      },
      "outputs": [
        {
          "ename": "ModuleNotFoundError",
          "evalue": "No module named 'skimage'",
          "output_type": "error",
          "traceback": [
            "\u001b[1;31m---------------------------------------------------------------------------\u001b[0m",
            "\u001b[1;31mModuleNotFoundError\u001b[0m                       Traceback (most recent call last)",
            "Cell \u001b[1;32mIn [10], line 1\u001b[0m\n\u001b[1;32m----> 1\u001b[0m \u001b[38;5;28;01mimport\u001b[39;00m \u001b[38;5;21;01mcolorizers\u001b[39;00m\n\u001b[0;32m      2\u001b[0m colorizer_eccv16 \u001b[38;5;241m=\u001b[39m colorizers\u001b[38;5;241m.\u001b[39meccv16()\u001b[38;5;241m.\u001b[39meval()\n\u001b[0;32m      3\u001b[0m colorizer_siggraph17 \u001b[38;5;241m=\u001b[39m colorizers\u001b[38;5;241m.\u001b[39msiggraph17()\u001b[38;5;241m.\u001b[39meval()\n",
            "File \u001b[1;32md:\\Python\\SIH_1285\\Our Projects\\bw2rgb\\colorizers\\__init__.py:5\u001b[0m\n\u001b[0;32m      3\u001b[0m \u001b[38;5;28;01mfrom\u001b[39;00m \u001b[38;5;21;01m.\u001b[39;00m\u001b[38;5;21;01meccv16\u001b[39;00m \u001b[38;5;28;01mimport\u001b[39;00m \u001b[38;5;241m*\u001b[39m\n\u001b[0;32m      4\u001b[0m \u001b[38;5;28;01mfrom\u001b[39;00m \u001b[38;5;21;01m.\u001b[39;00m\u001b[38;5;21;01msiggraph17\u001b[39;00m \u001b[38;5;28;01mimport\u001b[39;00m \u001b[38;5;241m*\u001b[39m\n\u001b[1;32m----> 5\u001b[0m \u001b[38;5;28;01mfrom\u001b[39;00m \u001b[38;5;21;01m.\u001b[39;00m\u001b[38;5;21;01mutil\u001b[39;00m \u001b[38;5;28;01mimport\u001b[39;00m \u001b[38;5;241m*\u001b[39m\n",
            "File \u001b[1;32md:\\Python\\SIH_1285\\Our Projects\\bw2rgb\\colorizers\\util.py:4\u001b[0m\n\u001b[0;32m      2\u001b[0m \u001b[38;5;28;01mfrom\u001b[39;00m \u001b[38;5;21;01mPIL\u001b[39;00m \u001b[38;5;28;01mimport\u001b[39;00m Image\n\u001b[0;32m      3\u001b[0m \u001b[38;5;28;01mimport\u001b[39;00m \u001b[38;5;21;01mnumpy\u001b[39;00m \u001b[38;5;28;01mas\u001b[39;00m \u001b[38;5;21;01mnp\u001b[39;00m\n\u001b[1;32m----> 4\u001b[0m \u001b[38;5;28;01mfrom\u001b[39;00m \u001b[38;5;21;01mskimage\u001b[39;00m \u001b[38;5;28;01mimport\u001b[39;00m color\n\u001b[0;32m      5\u001b[0m \u001b[38;5;28;01mimport\u001b[39;00m \u001b[38;5;21;01mtorch\u001b[39;00m\n\u001b[0;32m      6\u001b[0m \u001b[38;5;28;01mimport\u001b[39;00m \u001b[38;5;21;01mtorch\u001b[39;00m\u001b[38;5;21;01m.\u001b[39;00m\u001b[38;5;21;01mnn\u001b[39;00m\u001b[38;5;21;01m.\u001b[39;00m\u001b[38;5;21;01mfunctional\u001b[39;00m \u001b[38;5;28;01mas\u001b[39;00m \u001b[38;5;21;01mF\u001b[39;00m\n",
            "\u001b[1;31mModuleNotFoundError\u001b[0m: No module named 'skimage'"
          ]
        }
      ],
      "source": [
        "import colorizers\n",
        "colorizer_eccv16 = colorizers.eccv16().eval()\n",
        "colorizer_siggraph17 = colorizers.siggraph17().eval()"
      ]
    },
    {
      "cell_type": "code",
      "execution_count": null,
      "metadata": {
        "colab": {
          "base_uri": "https://localhost:8080/"
        },
        "id": "rFHB1PUdWo3Z",
        "outputId": "86d837e5-a81d-4c45-d4a4-906c428fe755"
      },
      "outputs": [
        {
          "name": "stdout",
          "output_type": "stream",
          "text": [
            "/usr/local/lib/python3.10/dist-packages/skimage/_shared/utils.py:394: UserWarning: Color data out of range: Z < 0 in 14 pixels\n",
            "  return func(*args, **kwargs)\n",
            "Figure(1200x800)\n"
          ]
        }
      ],
      "source": [
        "#!python demo_release.py -i /content/colorization/imgs/images.jpeg -o /content/colorization/imgs_out/output.png"
      ]
    },
    {
      "cell_type": "markdown",
      "metadata": {},
      "source": [
        "# Video Code"
      ]
    },
    {
      "cell_type": "code",
      "execution_count": null,
      "metadata": {
        "id": "8nOM15VDi2yy"
      },
      "outputs": [],
      "source": [
        "# import the necessary packages\n",
        "from imutils.video import VideoStream\n",
        "import numpy as np\n",
        "import imutils\n",
        "import time\n",
        "import cv2\n",
        "import os\n",
        "from os.path import isfile, join"
      ]
    },
    {
      "cell_type": "code",
      "execution_count": null,
      "metadata": {
        "id": "KzDsU0qzi3Qf"
      },
      "outputs": [],
      "source": [
        "VIDEO = \"rio_32.mp4\""
      ]
    },
    {
      "cell_type": "code",
      "execution_count": null,
      "metadata": {
        "id": "agLDOlASjCHf"
      },
      "outputs": [],
      "source": [
        "vs = cv2.VideoCapture(video)"
      ]
    },
    {
      "cell_type": "code",
      "execution_count": null,
      "metadata": {
        "colab": {
          "base_uri": "https://localhost:8080/",
          "height": 405
        },
        "id": "KrJTbqFQpHOB",
        "outputId": "96578a59-659e-4a3a-e510-a9cccaa10c73"
      },
      "outputs": [],
      "source": [
        "import cv2\n",
        "import subprocess\n",
        "\n",
        "# Open video capture\n",
        "vs = cv2.VideoCapture('/content/output (2).mp4')  # Replace with the path to your video file\n",
        "\n",
        "count = 0\n",
        "success = True\n",
        "\n",
        "while success:\n",
        "    success, frame = vs.read()\n",
        "\n",
        "    if frame is None:\n",
        "        break\n",
        "\n",
        "    cv2.imwrite(\"/content/colorization/imgs/frame%d.jpg\" % count, frame)\n",
        "\n",
        "    # Call the colorization script for each frame\n",
        "    subprocess.run([\n",
        "        'python', 'demo_release.py',\n",
        "        '-i', f'/content/colorization/imgs/frame{count}.jpg',\n",
        "        '-o', f'/content/colorization/imgs_out/output{count}.png'\n",
        "    ])\n",
        "\n",
        "    colorized_frame = cv2.imread(f'/content/colorization/imgs_out/output{count}.png')\n",
        "\n",
        "    # cv2.imshow(\"Original\", frame)\n",
        "    # cv2.imshow(\"Colorized\", colorized_frame)\n",
        "\n",
        "    count += 1\n",
        "\n",
        "    key = cv2.waitKey(1) & 0xFF\n",
        "    if key == ord(\"q\"):\n",
        "        break\n",
        "\n",
        "vs.release()\n",
        "cv2.destroyAllWindows()\n"
      ]
    },
    {
      "cell_type": "code",
      "execution_count": null,
      "metadata": {
        "id": "SLHYp1_lq_Bx"
      },
      "outputs": [],
      "source": [
        "# def convert_frames_to_video(pathIn, pathOut, fps):\n",
        "#     frame_array = []\n",
        "#     files = [f for f in os.listdir(pathIn) if isfile(join(pathIn, f))]\n",
        "\n",
        "#     #for sorting the file names properly\n",
        "#     files.sort(key = lambda x: int(x[5:-4]))\n",
        "\n",
        "#     for i in range(len(files)):\n",
        "#         filename=pathIn + files[i]\n",
        "#         #reading each files\n",
        "#         img = cv2.imread(filename)\n",
        "#         height, width, layers = img.shape\n",
        "#         size = (width,height)\n",
        "#         print(filename)\n",
        "#         #inserting the frames into an image array\n",
        "#         frame_array.append(img)\n",
        "\n",
        "#     out = cv2.VideoWriter(pathOut,cv2.VideoWriter_fourcc(*'MJPG'), fps, size)\n",
        "\n",
        "#     for i in range(len(frame_array)):\n",
        "#         # writing to a image array\n",
        "#         out.write(frame_array[i])\n",
        "#     out.release()"
      ]
    },
    {
      "cell_type": "code",
      "execution_count": null,
      "metadata": {
        "id": "5m3wwTCnruYt"
      },
      "outputs": [],
      "source": [
        "def convert_frames_to_video(pathIn, pathOut, fps):\n",
        "    frame_array = []\n",
        "    files = [f for f in os.listdir(pathIn) if isfile(join(pathIn, f))]\n",
        "\n",
        "    # for sorting the file names properly\n",
        "    files.sort(key=lambda x: int(x[5:-4]) if x[5:-4].isdigit() else 0)\n",
        "\n",
        "    for i in range(len(files)):\n",
        "        filename = os.path.join(pathIn, files[i])\n",
        "        print(f\"Reading {filename}\")\n",
        "        img = cv2.imread(filename)\n",
        "\n",
        "        if img is not None:\n",
        "            height, width, layers = img.shape\n",
        "            size = (width, height)\n",
        "            frame_array.append(img)\n",
        "        else:\n",
        "            print(f\"Unable to read image: {filename}\")\n",
        "\n",
        "    out = cv2.VideoWriter(pathOut, cv2.VideoWriter_fourcc(*'DIVX'), fps, size)\n",
        "\n",
        "    for i in range(len(frame_array)):\n",
        "        out.write(frame_array[i])\n",
        "\n",
        "    out.release()\n"
      ]
    },
    {
      "cell_type": "code",
      "execution_count": null,
      "metadata": {
        "colab": {
          "base_uri": "https://localhost:8080/"
        },
        "id": "8_eC0sc4q_c3",
        "outputId": "f38de238-576b-4182-be45-943126792760"
      },
      "outputs": [],
      "source": [
        "pathIn= '/content/colorization/imgs'\n",
        "pathOut = '/content/video.avi'\n",
        "fps = 24.0\n",
        "convert_frames_to_video(pathIn, pathOut, fps)"
      ]
    },
    {
      "cell_type": "markdown",
      "metadata": {
        "id": "q_4N8avv2hWc"
      },
      "source": [
        "streamlit"
      ]
    },
    {
      "cell_type": "code",
      "execution_count": null,
      "metadata": {
        "colab": {
          "base_uri": "https://localhost:8080/",
          "height": 1000
        },
        "id": "xCzRAF36-DBo",
        "outputId": "18e23e1e-cc16-4d95-e96e-f6b5c6abfc87"
      },
      "outputs": [],
      "source": [
        "import gradio as gr\n",
        "\n",
        "def get_output(image, user_fun):\n",
        "    # Implement your image processing logic here based on user_fun\n",
        "    # For now, just return the original image as a placeholder\n",
        "    print(image)\n",
        "    print(user_fun)\n",
        "    return image\n",
        "\n",
        "iface = gr.Interface(\n",
        "    get_output,\n",
        "    [\n",
        "        gr.Radio([\"Image Restoration\", \"Image Enhancement\", \"Image Colourization\"], label=\"Choose a function\"),\n",
        "        gr.Image(label=\"Upload Image/Video\"),  # Use 'sources' to specify upload functionality\n",
        "    ],\n",
        "    \"image\",\n",
        "    live=True,\n",
        ")\n",
        "\n",
        "iface.launch(debug=True)\n"
      ]
    }
  ],
  "metadata": {
    "colab": {
      "provenance": []
    },
    "kernelspec": {
      "display_name": "Python 3",
      "name": "python3"
    },
    "language_info": {
      "codemirror_mode": {
        "name": "ipython",
        "version": 3
      },
      "file_extension": ".py",
      "mimetype": "text/x-python",
      "name": "python",
      "nbconvert_exporter": "python",
      "pygments_lexer": "ipython3",
      "version": "3.10.2"
    }
  },
  "nbformat": 4,
  "nbformat_minor": 0
}
